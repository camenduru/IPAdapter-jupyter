{
  "cells": [
    {
      "cell_type": "markdown",
      "metadata": {
        "id": "view-in-github"
      },
      "source": [
        "[![Open In Colab](https://colab.research.google.com/assets/colab-badge.svg)](https://colab.research.google.com/github/camenduru/TotoroUI-jupyter/blob/main/test.ipynb)"
      ]
    },
    {
      "cell_type": "code",
      "execution_count": null,
      "metadata": {
        "id": "VjYy0F2gZIPR"
      },
      "outputs": [],
      "source": [
        "!pip install -q torchsde einops diffusers accelerate xformers==0.0.25\n",
        "!apt -y install -qq aria2\n",
        "\n",
        "%cd /content\n",
        "!git clone -b totoro https://github.com/camenduru/ComfyUI /content/TotoroUI\n",
        "%cd /content/TotoroUI\n",
        "\n",
        "import torch\n",
        "import numpy as np\n",
        "from PIL import Image\n",
        "import totoro\n",
        "import nodes\n",
        "\n",
        "!aria2c --console-log-level=error -c -x 16 -s 16 -k 1M https://huggingface.co/RunDiffusion/Juggernaut-XL-v9/resolve/main/Juggernaut-XL_v9_RunDiffusionPhoto_v2.safetensors -d /content/TotoroUI/model -o Juggernaut-XL_v9_RunDiffusionPhoto_v2.safetensors\n",
        "\n",
        "with torch.no_grad():\n",
        "  model_patcher, clip, vae, clipvision = totoro.sd.load_checkpoint_guess_config(\"/content/TotoroUI/model/Juggernaut-XL_v9_RunDiffusionPhoto_v2.safetensors\", output_vae=True, output_clip=True, embedding_directory=None)"
      ]
    },
    {
      "cell_type": "code",
      "execution_count": null,
      "metadata": {},
      "outputs": [],
      "source": [
        "latent = {\"samples\":torch.zeros([1, 4, 1024 // 8, 1024 // 8])}\n",
        "\n",
        "tokens = clip.tokenize(\"toy car\")\n",
        "cond, pooled = clip.encode_from_tokens(tokens, return_pooled=True)\n",
        "cond = [[cond, {\"pooled_output\": pooled}]]\n",
        "\n",
        "n_tokens = clip.tokenize(\"red\")\n",
        "n_cond, n_pooled = clip.encode_from_tokens(n_tokens, return_pooled=True)\n",
        "n_cond = [[n_cond, {\"pooled_output\": n_pooled}]]\n",
        "\n",
        "sample = nodes.common_ksampler(model=model_patcher, \n",
        "                          seed=5454, \n",
        "                          steps=20, \n",
        "                          cfg=8.0, \n",
        "                          sampler_name=\"euler\", \n",
        "                          scheduler=\"normal\", \n",
        "                          positive=cond, \n",
        "                          negative=n_cond,\n",
        "                          latent=latent, \n",
        "                          denoise=1, \n",
        "                          disable_noise=False, \n",
        "                          start_step=0, \n",
        "                          last_step=20, \n",
        "                          force_full_denoise=True)\n",
        "\n",
        "with torch.inference_mode():\n",
        "  sample = sample[0][\"samples\"].to(torch.float16)\n",
        "  vae.first_stage_model.cuda()\n",
        "  decoded = vae.decode_tiled(sample).detach()\n",
        "\n",
        "Image.fromarray(np.array(decoded*255, dtype=np.uint8)[0])"
      ]
    }
  ],
  "metadata": {
    "accelerator": "GPU",
    "colab": {
      "gpuType": "T4",
      "provenance": []
    },
    "kernelspec": {
      "display_name": "Python 3",
      "name": "python3"
    },
    "language_info": {
      "name": "python"
    }
  },
  "nbformat": 4,
  "nbformat_minor": 0
}
