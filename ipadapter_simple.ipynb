{
  "cells": [
    {
      "cell_type": "markdown",
      "metadata": {
        "id": "view-in-github"
      },
      "source": [
        "[![Open In Colab](https://colab.research.google.com/assets/colab-badge.svg)](https://colab.research.google.com/github/camenduru/TotoroUI-jupyter/blob/main/ipadapter_simple.ipynb)"
      ]
    },
    {
      "cell_type": "code",
      "execution_count": null,
      "metadata": {
        "id": "VjYy0F2gZIPR"
      },
      "outputs": [],
      "source": [
        "!pip install -q torchsde einops diffusers accelerate xformers==0.0.25\n",
        "!apt -y install -qq aria2\n",
        "\n",
        "%cd /content\n",
        "!git clone -b totoro https://github.com/camenduru/ComfyUI /content/TotoroUI\n",
        "!git clone -b totoro https://github.com/camenduru/ComfyUI_IPAdapter_plus /content/TotoroUI/IPAdapter\n",
        "\n",
        "!aria2c --console-log-level=error -c -x 16 -s 16 -k 1M https://civitai.com/api/download/models/128713 -d /content/TotoroUI/models -o dreamshaper_8.safetensors\n",
        "!aria2c --console-log-level=error -c -x 16 -s 16 -k 1M https://huggingface.co/h94/IP-Adapter/resolve/main/models/image_encoder/model.safetensors -d /content/TotoroUI/models/clip_vision -o CLIP-ViT-H-14-laion2B-s32B-b79K.safetensors\n",
        "!aria2c --console-log-level=error -c -x 16 -s 16 -k 1M https://huggingface.co/h94/IP-Adapter/resolve/main/models/ip-adapter-plus_sd15.safetensors -d /content/TotoroUI/models/ipadapter -o ip-adapter-plus_sd15.safetensors\n",
        "\n",
        "!aria2c --console-log-level=error -c -x 16 -s 16 -k 1M https://github.com/camenduru/TotoroUI-jupyter/assets/54370274/8744d2de-e74b-4b68-b46d-e3a8bd649cdf -d /content -o ip1.png\n",
        "!aria2c --console-log-level=error -c -x 16 -s 16 -k 1M https://github.com/camenduru/TotoroUI-jupyter/assets/54370274/2fce96a5-2d85-42fc-8841-7375323149e5 -d /content -o mask.png\n",
        "\n",
        "!aria2c --console-log-level=error -c -x 16 -s 16 -k 1M https://github.com/Ttl/ComfyUi_NNLatentUpscale/raw/master/sd15_resizer.pt -d /content/TotoroUI/models -o sd15_resizer.pt\n",
        "\n",
        "!aria2c --console-log-level=error -c -x 16 -s 16 -k 1M https://github.com/Ttl/ComfyUi_NNLatentUpscale/raw/master/sd15_resizer.pt -d /content/TotoroUI/models -o sd15_resizer.pt\n",
        "\n",
        "%cd /content/TotoroUI\n",
        "import torch\n",
        "import numpy as np\n",
        "from PIL import Image\n",
        "import totoro\n",
        "import nodes\n",
        "import sys\n",
        "sys.path.append('/content/TotoroUI/IPAdapter')\n",
        "import IPAdapterPlus\n",
        "import scipy\n",
        "\n",
        "with torch.no_grad():\n",
        "  model_patcher, clip, vae, clipvision = totoro.sd.load_checkpoint_guess_config(\"/content/TotoroUI/models/dreamshaper_8.safetensors\", output_vae=True, output_clip=True, embedding_directory=None)\n",
        "\n",
        "IPAdapterPlus_model = IPAdapterPlus.IPAdapterUnifiedLoader().load_models(model_patcher, 'PLUS (high strength)', lora_strength=0.0, provider=\"CPU\", ipadapter=None)\n"
      ]
    },
    {
      "cell_type": "code",
      "execution_count": null,
      "metadata": {},
      "outputs": [],
      "source": [
        "output_image, output_mask = nodes.LoadImage().load_image(\"/content/ip1.png\")\n",
        "mask_image, mask_mask = nodes.LoadImage().load_image(\"/content/mask.png\")\n",
        "ip_model_patcher = IPAdapterPlus.IPAdapterSimple().apply_ipadapter(IPAdapterPlus_model[0], IPAdapterPlus_model[1], output_image, 0.7, 0.0, 1.0, 'standard', attn_mask=mask_mask)\n",
        "\n",
        "latent = {\"samples\":torch.zeros([1, 4, 512 // 8, 512 // 8])}\n",
        "\n",
        "tokens = clip.tokenize(\"a closeup of a woman astronaut in an enchanted forest, high quality, detailed\")\n",
        "cond, pooled = clip.encode_from_tokens(tokens, return_pooled=True)\n",
        "cond = [[cond, {\"pooled_output\": pooled}]]\n",
        "n_tokens = clip.tokenize(\"blurry, lowres, bad art, ill, distorted, malformed, horror\")\n",
        "n_cond, n_pooled = clip.encode_from_tokens(n_tokens, return_pooled=True)\n",
        "n_cond = [[n_cond, {\"pooled_output\": n_pooled}]]\n",
        "\n",
        "sample = nodes.common_ksampler(model=ip_model_patcher[0], \n",
        "                          seed=4, \n",
        "                          steps=30, \n",
        "                          cfg=7.0, \n",
        "                          sampler_name=\"dpmpp_2m\", \n",
        "                          scheduler=\"karras\", \n",
        "                          positive=cond, \n",
        "                          negative=n_cond,\n",
        "                          latent=latent, \n",
        "                          denoise=1)\n",
        "\n",
        "with torch.inference_mode():\n",
        "  sample = sample[0][\"samples\"].to(torch.float16)\n",
        "  vae.first_stage_model.cuda()\n",
        "  decoded = vae.decode_tiled(sample).detach()\n",
        "\n",
        "Image.fromarray(np.array(decoded*255, dtype=np.uint8)[0])"
      ]
    },
    {
      "cell_type": "code",
      "execution_count": null,
      "metadata": {},
      "outputs": [],
      "source": [
        "from latent_resizer import LatentResizer\n",
        "from totoro import model_management\n",
        "\n",
        "def upscale(latent, upscale):\n",
        "    device = model_management.get_torch_device()\n",
        "    samples = latent.to(device=device, dtype=torch.float16)\n",
        "    model = LatentResizer.load_model('/content/TotoroUI/models/sd15_resizer.pt', device, torch.float16)\n",
        "    model.to(device=device)\n",
        "    latent_out = (model(0.13025 * samples, scale=upscale) / 0.13025)\n",
        "    latent_out = latent_out.to(device=\"cpu\")\n",
        "    model.to(device=model_management.vae_offload_device())\n",
        "    return ({\"samples\": latent_out},)\n",
        "\n",
        "latent = upscale(sample, 1.5)\n",
        "\n",
        "sample = nodes.common_ksampler(model=ip_model_patcher[0], \n",
        "                          seed=543543, \n",
        "                          steps=30, \n",
        "                          cfg=7.0, \n",
        "                          sampler_name=\"dpmpp_2m\", \n",
        "                          scheduler=\"karras\", \n",
        "                          positive=cond, \n",
        "                          negative=n_cond,\n",
        "                          latent=latent[0], \n",
        "                          denoise=0.55)\n",
        "\n",
        "with torch.inference_mode():\n",
        "  sample = sample[0][\"samples\"].to(torch.float16)\n",
        "  vae.first_stage_model.cuda()\n",
        "  decoded = vae.decode_tiled(sample).detach()\n",
        "\n",
        "Image.fromarray(np.array(decoded*255, dtype=np.uint8)[0])"
      ]
    }
  ],
  "metadata": {
    "accelerator": "GPU",
    "colab": {
      "gpuType": "T4",
      "provenance": []
    },
    "kernelspec": {
      "display_name": "Python 3",
      "name": "python3"
    },
    "language_info": {
      "name": "python"
    }
  },
  "nbformat": 4,
  "nbformat_minor": 0
}
