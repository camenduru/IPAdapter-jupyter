{
  "cells": [
    {
      "cell_type": "markdown",
      "metadata": {
        "id": "view-in-github"
      },
      "source": [
        "[![Open In Colab](https://colab.research.google.com/assets/colab-badge.svg)](https://colab.research.google.com/github/camenduru/TotoroUI-jupyter/blob/main/ipadapter.ipynb)"
      ]
    },
    {
      "cell_type": "code",
      "execution_count": null,
      "metadata": {
        "id": "VjYy0F2gZIPR"
      },
      "outputs": [],
      "source": [
        "!pip install -q torchsde einops diffusers accelerate xformers==0.0.25\n",
        "!apt -y install -qq aria2\n",
        "\n",
        "%cd /content\n",
        "!git clone -b totoro https://github.com/camenduru/ComfyUI /content/TotoroUI\n",
        "!git clone -b totoro https://github.com/camenduru/ComfyUI_IPAdapter_plus /content/TotoroUI/IPAdapter\n",
        "\n",
        "!aria2c --console-log-level=error -c -x 16 -s 16 -k 1M https://civitai.com/api/download/models/128713 -d /content/TotoroUI/models -o dreamshaper_8.safetensors\n",
        "!aria2c --console-log-level=error -c -x 16 -s 16 -k 1M https://huggingface.co/h94/IP-Adapter/resolve/main/models/image_encoder/model.safetensors -d /content/TotoroUI/models/clip_vision -o CLIP-ViT-H-14-laion2B-s32B-b79K.safetensors\n",
        "# !aria2c --console-log-level=error -c -x 16 -s 16 -k 1M https://huggingface.co/h94/IP-Adapter/resolve/main/models/ip-adapter_sd15.safetensors -d /content/TotoroUI/models/ipadapter -o ip-adapter_sd15.safetensors\n",
        "# !aria2c --console-log-level=error -c -x 16 -s 16 -k 1M https://huggingface.co/h94/IP-Adapter/resolve/main/models/ip-adapter_sd15_light_v11.bin -d /content/TotoroUI/models/ipadapter -o ip-adapter_sd15_light_v11.bin\n",
        "!aria2c --console-log-level=error -c -x 16 -s 16 -k 1M https://huggingface.co/h94/IP-Adapter/resolve/main/models/ip-adapter-plus_sd15.safetensors -d /content/TotoroUI/models/ipadapter -o ip-adapter-plus_sd15.safetensors\n",
        "# !aria2c --console-log-level=error -c -x 16 -s 16 -k 1M https://huggingface.co/h94/IP-Adapter/resolve/main/models/ip-adapter-plus-face_sd15.safetensors -d /content/TotoroUI/models/ipadapter -o ip-adapter-plus-face_sd15.safetensors\n",
        "# !aria2c --console-log-level=error -c -x 16 -s 16 -k 1M https://huggingface.co/h94/IP-Adapter/resolve/main/models/ip-adapter-full-face_sd15.safetensors -d /content/TotoroUI/models/ipadapter -o ip-adapter-full-face_sd15.safetensors\n",
        "# !aria2c --console-log-level=error -c -x 16 -s 16 -k 1M https://huggingface.co/h94/IP-Adapter/resolve/main/models/ip-adapter_sd15_vit-G.safetensors -d /content/TotoroUI/models/ipadapter -o ip-adapter_sd15_vit-G.safetensors\n",
        "\n",
        "# !aria2c --console-log-level=error -c -x 16 -s 16 -k 1M https://huggingface.co/RunDiffusion/Juggernaut-XL-v9/resolve/main/Juggernaut-XL_v9_RunDiffusionPhoto_v2.safetensors -d /content/TotoroUI/models -o Juggernaut-XL_v9_RunDiffusionPhoto_v2.safetensors\n",
        "# !aria2c --console-log-level=error -c -x 16 -s 16 -k 1M https://huggingface.co/h94/IP-Adapter/resolve/main/sdxl_models/image_encoder/model.safetensors -d /content/TotoroUI/models/clip_vision -o CLIP-ViT-bigG-14-laion2B-39B-b160k.safetensors\n",
        "# !aria2c --console-log-level=error -c -x 16 -s 16 -k 1M https://huggingface.co/h94/IP-Adapter/resolve/main/sdxl_models/ip-adapter_sdxl_vit-h.safetensors  -d /content/TotoroUI/models/ipadapter -o ip-adapter_sdxl_vit-h.safetensors \n",
        "# !aria2c --console-log-level=error -c -x 16 -s 16 -k 1M https://huggingface.co/h94/IP-Adapter/resolve/main/sdxl_models/ip-adapter-plus_sdxl_vit-h.safetensors  -d /content/TotoroUI/models/ipadapter -o ip-adapter-plus_sdxl_vit-h.safetensors \n",
        "# !aria2c --console-log-level=error -c -x 16 -s 16 -k 1M https://huggingface.co/h94/IP-Adapter/resolve/main/sdxl_models/ip-adapter-plus-face_sdxl_vit-h.safetensors  -d /content/TotoroUI/models/ipadapter -o ip-adapter-plus-face_sdxl_vit-h.safetensors \n",
        "# !aria2c --console-log-level=error -c -x 16 -s 16 -k 1M https://huggingface.co/h94/IP-Adapter/resolve/main/sdxl_models/ip-adapter_sdxl.safetensors -d /content/TotoroUI/models/ipadapter -o ip-adapter_sdxl.safetensors\n",
        "\n",
        "!aria2c --console-log-level=error -c -x 16 -s 16 -k 1M https://github.com/camenduru/TotoroUI-jupyter/assets/54370274/8744d2de-e74b-4b68-b46d-e3a8bd649cdf -d /content -o ip1.png\n",
        "!aria2c --console-log-level=error -c -x 16 -s 16 -k 1M https://github.com/camenduru/TotoroUI-jupyter/assets/54370274/e42ff968-2298-4a65-b685-1e9c0c0eb2cf -d /content -o ip2.png\n",
        "!aria2c --console-log-level=error -c -x 16 -s 16 -k 1M https://github.com/camenduru/TotoroUI-jupyter/assets/54370274/27a47c1a-085e-4675-bf21-9075066796b4 -d /content -o mask.png\n",
        "!aria2c --console-log-level=error -c -x 16 -s 16 -k 1M https://github.com/camenduru/TotoroUI-jupyter/assets/54370274/2fce96a5-2d85-42fc-8841-7375323149e5 -d /content -o mask1.png\n",
        "!aria2c --console-log-level=error -c -x 16 -s 16 -k 1M https://github.com/camenduru/TotoroUI-jupyter/assets/54370274/5217c416-69e5-42ab-a402-23702371017f -d /content -o mask2.png\n",
        "\n",
        "%cd /content/TotoroUI\n",
        "import torch\n",
        "import numpy as np\n",
        "from PIL import Image\n",
        "import totoro\n",
        "import nodes\n",
        "import sys\n",
        "sys.path.append('/content/TotoroUI/IPAdapter')\n",
        "with torch.no_grad():\n",
        "  model_patcher, clip, vae, clipvision = totoro.sd.load_checkpoint_guess_config(\"/content/TotoroUI/models/dreamshaper_8.safetensors\", output_vae=True, output_clip=True, embedding_directory=None)\n",
        "\n",
        "import IPAdapterPlus\n",
        "IPAdapterPlus_model = IPAdapterPlus.IPAdapterUnifiedLoader().load_models(model_patcher, 'PLUS (high strength)', lora_strength=0.0, provider=\"CPU\", ipadapter=None)\n",
        "\n",
        "output1_image, output1_mask = nodes.LoadImage().load_image(\"/content/ip1.png\")\n",
        "output2_image, output2_mask = nodes.LoadImage().load_image(\"/content/ip2.png\")\n",
        "mask1_image, mask1_mask = nodes.LoadImage().load_image(\"/content/mask1.png\")\n",
        "mask2_image, mask2_mask = nodes.LoadImage().load_image(\"/content/mask2.png\")\n",
        "ip_model_patcher1 = IPAdapterPlus.IPAdapterSimple().apply_ipadapter(IPAdapterPlus_model[0], IPAdapterPlus_model[1], output1_image, 0.7, 0.0, 1.0, 'standard', attn_mask=mask1_mask)\n",
        "# ip_model_patcher2 = IPAdapterPlus.IPAdapterSimple().apply_ipadapter(ip_model_patcher1[0], IPAdapterPlus_model[1], output2_image, 0.7, 0.0, 1.0, 'standard', attn_mask=mask2_mask)"
      ]
    },
    {
      "cell_type": "code",
      "execution_count": null,
      "metadata": {},
      "outputs": [],
      "source": [
        "latent = {\"samples\":torch.zeros([1, 4, 512 // 8, 512 // 8])}\n",
        "\n",
        "tokens = clip.tokenize(\"a closeup of a woman astronaut in an enchanted forest, high quality, detailed\")\n",
        "cond, pooled = clip.encode_from_tokens(tokens, return_pooled=True)\n",
        "cond = [[cond, {\"pooled_output\": pooled}]]\n",
        "\n",
        "n_tokens = clip.tokenize(\"blurry, lowres, bad art, ill, distorted, malformed, horror\")\n",
        "n_cond, n_pooled = clip.encode_from_tokens(n_tokens, return_pooled=True)\n",
        "n_cond = [[n_cond, {\"pooled_output\": n_pooled}]]\n",
        "\n",
        "sample = nodes.common_ksampler(model=ip_model_patcher1[0], \n",
        "                          seed=3, \n",
        "                          steps=30, \n",
        "                          cfg=7.0, \n",
        "                          sampler_name=\"dpmpp_2m\", \n",
        "                          scheduler=\"karras\", \n",
        "                          positive=cond, \n",
        "                          negative=n_cond,\n",
        "                          latent=latent, \n",
        "                          denoise=1)\n",
        "\n",
        "with torch.inference_mode():\n",
        "  sample = sample[0][\"samples\"].to(torch.float16)\n",
        "  vae.first_stage_model.cuda()\n",
        "  decoded = vae.decode_tiled(sample).detach()\n",
        "\n",
        "Image.fromarray(np.array(decoded*255, dtype=np.uint8)[0])"
      ]
    }
  ],
  "metadata": {
    "accelerator": "GPU",
    "colab": {
      "gpuType": "T4",
      "provenance": []
    },
    "kernelspec": {
      "display_name": "Python 3",
      "name": "python3"
    },
    "language_info": {
      "name": "python"
    }
  },
  "nbformat": 4,
  "nbformat_minor": 0
}
